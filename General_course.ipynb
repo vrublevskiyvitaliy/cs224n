{
  "nbformat": 4,
  "nbformat_minor": 0,
  "metadata": {
    "colab": {
      "name": "General course.ipynb",
      "provenance": [],
      "authorship_tag": "ABX9TyObF9fuQf3UTF2LlGAYzPCD",
      "include_colab_link": true
    },
    "kernelspec": {
      "name": "python3",
      "display_name": "Python 3"
    }
  },
  "cells": [
    {
      "cell_type": "markdown",
      "metadata": {
        "id": "view-in-github",
        "colab_type": "text"
      },
      "source": [
        "<a href=\"https://colab.research.google.com/github/vrublevskiyvitaliy/cs224n/blob/master/General_course.ipynb\" target=\"_parent\"><img src=\"https://colab.research.google.com/assets/colab-badge.svg\" alt=\"Open In Colab\"/></a>"
      ]
    },
    {
      "cell_type": "markdown",
      "metadata": {
        "id": "xnWOB0vZpPvO",
        "colab_type": "text"
      },
      "source": [
        "# Overview of CS224n\n",
        "\n",
        "Link to resources: https://web.stanford.edu/class/archive/cs/cs224n/cs224n.1194/\n",
        "\n",
        "Lectures:\n",
        "\n",
        "1.   Introduction and Word Vectors\n",
        "      *   Gensim word vectors example: \n",
        "\n"
      ]
    }
  ]
}